{
 "cells": [
  {
   "cell_type": "markdown",
   "metadata": {},
   "source": [
    "# Looking at 1-2 Finishes\n",
    "\n",
    "In notebook 03 I computed the average finishing position for each team at each race from 1950 to now (2019, race 4). Let's compare that with the other list of 1-2 finishes to make sure I have things mostly right. I know my averages method will not capture the early races where more than 2 drivers raced and a team got a 1-2 finish. Those winners I get with my original method of looking at the first and second place finishes for each race and seeing if they were the same constructor."
   ]
  },
  {
   "cell_type": "code",
   "execution_count": 1,
   "metadata": {},
   "outputs": [],
   "source": [
    "import pandas as pd\n",
    "import numpy as np"
   ]
  },
  {
   "cell_type": "code",
   "execution_count": 2,
   "metadata": {},
   "outputs": [],
   "source": [
    "averages = pd.read_csv(\"../data/averagePositions-all.csv\")\n",
    "finishes = pd.read_csv(\"../data/onetwofinishes.csv\")"
   ]
  },
  {
   "cell_type": "code",
   "execution_count": 3,
   "metadata": {},
   "outputs": [
    {
     "data": {
      "text/html": [
       "<div>\n",
       "<style scoped>\n",
       "    .dataframe tbody tr th:only-of-type {\n",
       "        vertical-align: middle;\n",
       "    }\n",
       "\n",
       "    .dataframe tbody tr th {\n",
       "        vertical-align: top;\n",
       "    }\n",
       "\n",
       "    .dataframe thead th {\n",
       "        text-align: right;\n",
       "    }\n",
       "</style>\n",
       "<table border=\"1\" class=\"dataframe\">\n",
       "  <thead>\n",
       "    <tr style=\"text-align: right;\">\n",
       "      <th></th>\n",
       "      <th>year</th>\n",
       "      <th>constructorName</th>\n",
       "      <th>round</th>\n",
       "      <th>averagePosition</th>\n",
       "    </tr>\n",
       "  </thead>\n",
       "  <tbody>\n",
       "    <tr>\n",
       "      <th>0</th>\n",
       "      <td>1950</td>\n",
       "      <td>Adams</td>\n",
       "      <td>3</td>\n",
       "      <td>27.000000</td>\n",
       "    </tr>\n",
       "    <tr>\n",
       "      <th>1</th>\n",
       "      <td>1950</td>\n",
       "      <td>Alfa Romeo</td>\n",
       "      <td>1</td>\n",
       "      <td>4.500000</td>\n",
       "    </tr>\n",
       "    <tr>\n",
       "      <th>2</th>\n",
       "      <td>1950</td>\n",
       "      <td>Alfa Romeo</td>\n",
       "      <td>2</td>\n",
       "      <td>8.000000</td>\n",
       "    </tr>\n",
       "    <tr>\n",
       "      <th>3</th>\n",
       "      <td>1950</td>\n",
       "      <td>Alfa Romeo</td>\n",
       "      <td>4</td>\n",
       "      <td>5.000000</td>\n",
       "    </tr>\n",
       "    <tr>\n",
       "      <th>4</th>\n",
       "      <td>1950</td>\n",
       "      <td>Alfa Romeo</td>\n",
       "      <td>5</td>\n",
       "      <td>2.333333</td>\n",
       "    </tr>\n",
       "  </tbody>\n",
       "</table>\n",
       "</div>"
      ],
      "text/plain": [
       "   year constructorName  round  averagePosition\n",
       "0  1950           Adams      3        27.000000\n",
       "1  1950      Alfa Romeo      1         4.500000\n",
       "2  1950      Alfa Romeo      2         8.000000\n",
       "3  1950      Alfa Romeo      4         5.000000\n",
       "4  1950      Alfa Romeo      5         2.333333"
      ]
     },
     "execution_count": 3,
     "metadata": {},
     "output_type": "execute_result"
    }
   ],
   "source": [
    "averages.head()"
   ]
  },
  {
   "cell_type": "code",
   "execution_count": 4,
   "metadata": {},
   "outputs": [
    {
     "name": "stdout",
     "output_type": "stream",
     "text": [
      "<class 'pandas.core.frame.DataFrame'>\n",
      "RangeIndex: 11787 entries, 0 to 11786\n",
      "Data columns (total 4 columns):\n",
      "year               11787 non-null int64\n",
      "constructorName    11787 non-null object\n",
      "round              11787 non-null int64\n",
      "averagePosition    11787 non-null float64\n",
      "dtypes: float64(1), int64(2), object(1)\n",
      "memory usage: 368.4+ KB\n"
     ]
    }
   ],
   "source": [
    "averages.info()"
   ]
  },
  {
   "cell_type": "code",
   "execution_count": 5,
   "metadata": {},
   "outputs": [
    {
     "data": {
      "text/html": [
       "<div>\n",
       "<style scoped>\n",
       "    .dataframe tbody tr th:only-of-type {\n",
       "        vertical-align: middle;\n",
       "    }\n",
       "\n",
       "    .dataframe tbody tr th {\n",
       "        vertical-align: top;\n",
       "    }\n",
       "\n",
       "    .dataframe thead th {\n",
       "        text-align: right;\n",
       "    }\n",
       "</style>\n",
       "<table border=\"1\" class=\"dataframe\">\n",
       "  <thead>\n",
       "    <tr style=\"text-align: right;\">\n",
       "      <th></th>\n",
       "      <th>raceId2</th>\n",
       "      <th>year</th>\n",
       "      <th>prixName</th>\n",
       "      <th>prixDate</th>\n",
       "      <th>round</th>\n",
       "      <th>constructorName</th>\n",
       "      <th>driverName</th>\n",
       "    </tr>\n",
       "  </thead>\n",
       "  <tbody>\n",
       "    <tr>\n",
       "      <th>0</th>\n",
       "      <td>1.0</td>\n",
       "      <td>1950.0</td>\n",
       "      <td>British Grand Prix</td>\n",
       "      <td>1950-05-13</td>\n",
       "      <td>1.0</td>\n",
       "      <td>Alfa Romeo</td>\n",
       "      <td>Nino Farina</td>\n",
       "    </tr>\n",
       "    <tr>\n",
       "      <th>1</th>\n",
       "      <td>4.0</td>\n",
       "      <td>1950.0</td>\n",
       "      <td>Swiss Grand Prix</td>\n",
       "      <td>1950-06-04</td>\n",
       "      <td>4.0</td>\n",
       "      <td>Alfa Romeo</td>\n",
       "      <td>Nino Farina</td>\n",
       "    </tr>\n",
       "    <tr>\n",
       "      <th>2</th>\n",
       "      <td>5.0</td>\n",
       "      <td>1950.0</td>\n",
       "      <td>Belgian Grand Prix</td>\n",
       "      <td>1950-06-18</td>\n",
       "      <td>5.0</td>\n",
       "      <td>Alfa Romeo</td>\n",
       "      <td>Juan Fangio</td>\n",
       "    </tr>\n",
       "    <tr>\n",
       "      <th>3</th>\n",
       "      <td>6.0</td>\n",
       "      <td>1950.0</td>\n",
       "      <td>French Grand Prix</td>\n",
       "      <td>1950-07-02</td>\n",
       "      <td>6.0</td>\n",
       "      <td>Alfa Romeo</td>\n",
       "      <td>Juan Fangio</td>\n",
       "    </tr>\n",
       "    <tr>\n",
       "      <th>4</th>\n",
       "      <td>7.0</td>\n",
       "      <td>1950.0</td>\n",
       "      <td>Italian Grand Prix</td>\n",
       "      <td>1950-09-03</td>\n",
       "      <td>7.0</td>\n",
       "      <td>Alfa Romeo</td>\n",
       "      <td>Nino Farina</td>\n",
       "    </tr>\n",
       "  </tbody>\n",
       "</table>\n",
       "</div>"
      ],
      "text/plain": [
       "   raceId2    year            prixName    prixDate  round constructorName  \\\n",
       "0      1.0  1950.0  British Grand Prix  1950-05-13    1.0      Alfa Romeo   \n",
       "1      4.0  1950.0    Swiss Grand Prix  1950-06-04    4.0      Alfa Romeo   \n",
       "2      5.0  1950.0  Belgian Grand Prix  1950-06-18    5.0      Alfa Romeo   \n",
       "3      6.0  1950.0   French Grand Prix  1950-07-02    6.0      Alfa Romeo   \n",
       "4      7.0  1950.0  Italian Grand Prix  1950-09-03    7.0      Alfa Romeo   \n",
       "\n",
       "    driverName  \n",
       "0  Nino Farina  \n",
       "1  Nino Farina  \n",
       "2  Juan Fangio  \n",
       "3  Juan Fangio  \n",
       "4  Nino Farina  "
      ]
     },
     "execution_count": 5,
     "metadata": {},
     "output_type": "execute_result"
    }
   ],
   "source": [
    "finishes.head()"
   ]
  },
  {
   "cell_type": "code",
   "execution_count": 6,
   "metadata": {},
   "outputs": [
    {
     "name": "stdout",
     "output_type": "stream",
     "text": [
      "<class 'pandas.core.frame.DataFrame'>\n",
      "RangeIndex: 290 entries, 0 to 289\n",
      "Data columns (total 7 columns):\n",
      "raceId2            290 non-null float64\n",
      "year               290 non-null float64\n",
      "prixName           290 non-null object\n",
      "prixDate           290 non-null object\n",
      "round              290 non-null float64\n",
      "constructorName    290 non-null object\n",
      "driverName         290 non-null object\n",
      "dtypes: float64(3), object(4)\n",
      "memory usage: 15.9+ KB\n"
     ]
    }
   ],
   "source": [
    "finishes.info()"
   ]
  },
  {
   "cell_type": "markdown",
   "metadata": {},
   "source": []
  }
 ],
 "metadata": {
  "kernelspec": {
   "display_name": "Python 3",
   "language": "python",
   "name": "python3"
  },
  "language_info": {
   "codemirror_mode": {
    "name": "ipython",
    "version": 3
   },
   "file_extension": ".py",
   "mimetype": "text/x-python",
   "name": "python",
   "nbconvert_exporter": "python",
   "pygments_lexer": "ipython3",
   "version": "3.7.3"
  }
 },
 "nbformat": 4,
 "nbformat_minor": 2
}
